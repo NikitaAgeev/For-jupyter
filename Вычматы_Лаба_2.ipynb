{
 "cells": [
  {
   "cell_type": "code",
   "execution_count": 28,
   "id": "041d82ac",
   "metadata": {},
   "outputs": [],
   "source": [
    "import numpy as np\n",
    "import math\n",
    "import matplotlib.pyplot as plt\n",
    "\n",
    "\n",
    "def argmax (x):\n",
    "    res = -1.0\n",
    "    for i in x:\n",
    "        if abs(i) > res:\n",
    "            res = abs(i)\n",
    "    return res"
   ]
  },
  {
   "cell_type": "markdown",
   "id": "9da3778b",
   "metadata": {},
   "source": [
    "## Добавим исходную функцию и её производную\n",
    "\n",
    "$f(x) = cos(x)$\n",
    "\n",
    "$F(x) = sin(x)$\n"
   ]
  },
  {
   "cell_type": "code",
   "execution_count": 29,
   "id": "38433d44",
   "metadata": {},
   "outputs": [],
   "source": [
    "def f(x):\n",
    "    return math.cos(x) \n",
    "\n",
    "def F(x):\n",
    "    return math.sin(x)\n"
   ]
  },
  {
   "cell_type": "markdown",
   "id": "a3a4c5b4",
   "metadata": {},
   "source": [
    "## Сделаем проектор"
   ]
  },
  {
   "cell_type": "code",
   "execution_count": 30,
   "id": "87da17c2",
   "metadata": {},
   "outputs": [],
   "source": [
    "def projector (f, h, x_min, x_max):\n",
    "    x = x_min\n",
    "    res = np.zeros((2,0))\n",
    "    while x < x_max:\n",
    "        res = np.append(res, np.array([x,f(x)]).reshape(2,1), axis = 1)\n",
    "        x += h\n",
    "    res = np.append(res, np.array([x_max,f(x_max)]).reshape(2,1), axis = 1)\n",
    "    return res"
   ]
  },
  {
   "cell_type": "markdown",
   "id": "142d1a30",
   "metadata": {},
   "source": [
    "## Интеграл по левому прямоугольнику"
   ]
  },
  {
   "cell_type": "code",
   "execution_count": 31,
   "id": "c7f784d7",
   "metadata": {},
   "outputs": [],
   "source": [
    "def left_rect_Int (f, h, x_min, x_max):\n",
    "    f_arr = projector(f, h, x_min, x_max)\n",
    "    \n",
    "    f_arr[0, 1:] = f_arr[0, 1:] - f_arr[0, 0: -1]\n",
    "    f_arr[1, 1:] = f_arr[1, 1:]*f_arr[0, 1:]; \n",
    "    f_arr[1,0] = 0\n",
    "    \n",
    "    ans = np.sum(f_arr, axis = 1)[1]\n",
    "    return ans"
   ]
  },
  {
   "cell_type": "markdown",
   "id": "4eeb46ea",
   "metadata": {},
   "source": [
    "## Интеграл по правому прямоугольнику"
   ]
  },
  {
   "cell_type": "code",
   "execution_count": 32,
   "id": "e8f8efb4",
   "metadata": {},
   "outputs": [],
   "source": [
    "def right_rect_Int (f, h, x_min, x_max):\n",
    "    f_arr = projector(f, h, x_min, x_max)\n",
    "    \n",
    "    f_arr[0, 0: -1] = f_arr[0, 1:] - f_arr[0, 0: -1]\n",
    "    f_arr[1, 0: -1] = f_arr[1, 0: -1]*f_arr[0, 0: -1]; \n",
    "    f_arr[1,-1] = 0;\n",
    "    \n",
    "    ans = np.sum(f_arr, axis = 1)[1]\n",
    "    return ans"
   ]
  },
  {
   "cell_type": "markdown",
   "id": "64d91b9b",
   "metadata": {},
   "source": [
    "## Интеграл по центральным прямоугольникам"
   ]
  },
  {
   "cell_type": "code",
   "execution_count": 39,
   "id": "98052f18",
   "metadata": {},
   "outputs": [],
   "source": [
    "def midle_rect_Int (f, h, x_min, x_max):\n",
    "    x = x_min\n",
    "    f_arr = np.zeros((2,0))\n",
    "    while x + h/2 < x_max:\n",
    "        f_arr = np.append(f_arr, np.array([x,f(x + h/2)]).reshape(2,1), axis = 1)\n",
    "        x += h\n",
    "    f_arr[1,-1] = f((f_arr[0,-1] + x_max)/2)\n",
    "    f_arr = np.append(f_arr, np.array([x_max,0]).reshape(2,1), axis = 1)\n",
    "    \n",
    "    f_arr[0,0:-1] = f_arr[0,1:] - f_arr[0,0:-1]\n",
    "    \n",
    "    f_arr[1,0:-1] = f_arr[1,0:-1]*f_arr[0,0:-1]\n",
    "    \n",
    "    ans = np.sum(f_arr, axis = 1)[1]\n",
    "    \n",
    "    return ans"
   ]
  },
  {
   "cell_type": "markdown",
   "id": "458f5860",
   "metadata": {},
   "source": [
    "## Интеграл по трапециям"
   ]
  },
  {
   "cell_type": "code",
   "execution_count": 42,
   "id": "d7569280",
   "metadata": {},
   "outputs": [],
   "source": [
    "def trapezoid_Int (f, h, x_min, x_max):\n",
    "    f_arr = projector(f, h, x_min, x_max)\n",
    "    \n",
    "    f_arr[0,0:-1] = f_arr[0,1:] - f_arr[0,0:-1]\n",
    "    f_arr[1,0:-1] = (f_arr[1,1:] + f_arr[1,0:-1])/2\n",
    "    \n",
    "    f_arr[0,-1] = 0;\n",
    "    f_arr[1,-1] = 0;\n",
    "    \n",
    "    f_arr[1,0:-1] = f_arr[1,0:-1]*f_arr[0,0:-1]\n",
    "    \n",
    "    ans = np.sum(f_arr, axis = 1)[1]\n",
    "    \n",
    "    return ans"
   ]
  },
  {
   "cell_type": "code",
   "execution_count": 44,
   "id": "692f291c",
   "metadata": {},
   "outputs": [
    {
     "name": "stdout",
     "output_type": "stream",
     "text": [
      "0.8414709848078965\n",
      "0.8412410658382473\n",
      "0.8417007635323792\n",
      "0.8414710198691886\n",
      "0.8414709146853132\n"
     ]
    }
   ],
   "source": [
    "print(F(1) - F(0))\n",
    "print(left_rect_Int(f, 0.001, 0, 1))\n",
    "print(right_rect_Int(f, 0.001, 0, 1))\n",
    "print(midle_rect_Int(f, 0.001, 0, 1))\n",
    "print(trapezoid_Int(f, 0.001, 0, 1))"
   ]
  },
  {
   "cell_type": "code",
   "execution_count": null,
   "id": "d262c5e9",
   "metadata": {},
   "outputs": [],
   "source": []
  }
 ],
 "metadata": {
  "kernelspec": {
   "display_name": "Python 3 (ipykernel)",
   "language": "python",
   "name": "python3"
  },
  "language_info": {
   "codemirror_mode": {
    "name": "ipython",
    "version": 3
   },
   "file_extension": ".py",
   "mimetype": "text/x-python",
   "name": "python",
   "nbconvert_exporter": "python",
   "pygments_lexer": "ipython3",
   "version": "3.11.4"
  }
 },
 "nbformat": 4,
 "nbformat_minor": 5
}
