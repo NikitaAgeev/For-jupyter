{
 "cells": [
  {
   "cell_type": "code",
   "execution_count": 1,
   "id": "dc3f6f9b",
   "metadata": {},
   "outputs": [],
   "source": [
    "import numpy as np\n",
    "import math\n",
    "import matplotlib.pyplot as plt\n",
    "import random"
   ]
  },
  {
   "cell_type": "markdown",
   "id": "c382babc",
   "metadata": {},
   "source": [
    "Генератор $A$ и $x$ и $f$"
   ]
  },
  {
   "cell_type": "code",
   "execution_count": 120,
   "id": "7efb85c7",
   "metadata": {},
   "outputs": [
    {
     "name": "stdout",
     "output_type": "stream",
     "text": [
      "0.0\n",
      "[[4.81781078 0.68017526]\n",
      " [6.18184556 8.94534901]]\n",
      "[[9.10796015]\n",
      " [7.81106282]]\n",
      "[[ 49.19332031]\n",
      " [126.1766861 ]]\n"
     ]
    }
   ],
   "source": [
    "n = 2\n",
    "C = 10\n",
    "A = С*np.random.rand(n, n)\n",
    "\n",
    "x = C*np.random.rand(n, 1)\n",
    "\n",
    "f = A.dot(x)\n",
    "\n",
    "print(np.sqrt(np.sum((A.dot(x) - f)**2)))\n",
    "\n",
    "print(A)\n",
    "print(x)\n",
    "\n",
    "print(f)"
   ]
  },
  {
   "cell_type": "markdown",
   "id": "fc528861",
   "metadata": {},
   "source": [
    "Метод Якоби"
   ]
  },
  {
   "cell_type": "code",
   "execution_count": 160,
   "id": "0eec3827",
   "metadata": {},
   "outputs": [],
   "source": [
    "def Iacoby (A, f, x_0, eps):\n",
    "    x = x_0\n",
    "    n = np.shape(A)[0]\n",
    "    \n",
    "    new_A = np.copy(A)\n",
    "    new_f = np.copy(f)\n",
    "    for i in range(n):\n",
    "        new_f[i] = (f[i])/(A[i][i])\n",
    "        new_A[i] = (A[i])/(A[i][i])\n",
    "\n",
    "    new_A -= np.eye(n,n)\n",
    "    \n",
    "    #for i in range(100):\n",
    "    while (np.sqrt(abs(np.sum((A.dot(x) - f)*(A.dot(x) - f)))) > eps):\n",
    "            #print(np.sqrt(np.sum((A.dot(x) - f)**2)))\n",
    "            x = new_f - new_A.dot(x)\n",
    "    return x"
   ]
  },
  {
   "cell_type": "code",
   "execution_count": 162,
   "id": "86c40c4d",
   "metadata": {},
   "outputs": [
    {
     "name": "stdout",
     "output_type": "stream",
     "text": [
      "0.0\n",
      "0.00048572287395854503\n",
      "[[9.1078813 ]\n",
      " [7.81108174]]\n",
      "[[9.10796015]\n",
      " [7.81106282]]\n"
     ]
    }
   ],
   "source": [
    "x_ans = Iacoby(A, f, C*np.random.rand(n, 1), 0.001)\n",
    "#x_ans = Iacoby(A, f, x, 0.001)\n",
    "print(np.sqrt(np.sum((A.dot(x) - f)**2)))\n",
    "print(np.sqrt(np.sum((A.dot(x_ans) - f)**2)))\n",
    "\n",
    "print(x_ans)\n",
    "#print(A.dot(x_ans))\n",
    "print(x)\n",
    "#print(A.dot(x))"
   ]
  },
  {
   "cell_type": "code",
   "execution_count": null,
   "id": "bfb4b4db",
   "metadata": {},
   "outputs": [],
   "source": []
  }
 ],
 "metadata": {
  "kernelspec": {
   "display_name": "Python 3 (ipykernel)",
   "language": "python",
   "name": "python3"
  },
  "language_info": {
   "codemirror_mode": {
    "name": "ipython",
    "version": 3
   },
   "file_extension": ".py",
   "mimetype": "text/x-python",
   "name": "python",
   "nbconvert_exporter": "python",
   "pygments_lexer": "ipython3",
   "version": "3.11.4"
  }
 },
 "nbformat": 4,
 "nbformat_minor": 5
}
