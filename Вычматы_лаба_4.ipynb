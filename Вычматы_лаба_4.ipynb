{
 "cells": [
  {
   "cell_type": "code",
   "execution_count": 1,
   "id": "0f982dcb",
   "metadata": {},
   "outputs": [],
   "source": [
    "import numpy as np\n",
    "import math\n",
    "import matplotlib.pyplot as plt\n",
    "import random\n"
   ]
  },
  {
   "cell_type": "markdown",
   "id": "49fbcd5e",
   "metadata": {},
   "source": [
    "Генератор $A$ и $x$ и $f$"
   ]
  },
  {
   "cell_type": "code",
   "execution_count": 76,
   "id": "3a8166c0",
   "metadata": {},
   "outputs": [
    {
     "name": "stdout",
     "output_type": "stream",
     "text": [
      "[[-2.33381303 -2.0800435  -3.24892498]\n",
      " [-3.0403423   0.45413197  2.51152111]\n",
      " [ 3.6117075  -4.13209021  1.82272382]]\n",
      "-92.0338422541083\n",
      "[[ 2.33597992]\n",
      " [-4.57759454]\n",
      " [ 3.76427382]]\n",
      "[[-8.15998785]\n",
      " [ 0.27304258]\n",
      " [34.21314133]]\n",
      "x = [[ 2.33597992]\n",
      " [-4.57759454]\n",
      " [ 3.76427382]]\n"
     ]
    }
   ],
   "source": [
    "n = 3\n",
    "c = 10\n",
    "\n",
    "A = c*(np.random.rand(n, n) - 0.5*(np.ones((n,n))))\n",
    "#A = np.zeros((3,3))\n",
    "#A[0][1] = 1\n",
    "#A[1][2] = 4\n",
    "#A[2][0] = 1\n",
    "\n",
    "x = c*(np.random.rand(n, 1) - 0.5*(np.ones((n,1))))\n",
    "\n",
    "#x = np.ones((3,1))\n",
    "\n",
    "f = A.dot(x)\n",
    "#f = np.zeros((3, 1))\n",
    "#f[1][0] = 3\n",
    "\n",
    "#print(np.sqrt(np.sum((A.dot(x) - f)**2)))\n",
    "\n",
    "print(A)\n",
    "print(np.linalg.det(A))\n",
    "print(x)\n",
    "\n",
    "print(f)\n",
    "\n",
    "print(\"x =\", np.linalg.inv(A).dot(f))"
   ]
  },
  {
   "cell_type": "markdown",
   "id": "66521c9a",
   "metadata": {},
   "source": [
    "Метод Якоби"
   ]
  },
  {
   "cell_type": "code",
   "execution_count": 77,
   "id": "87b8bd35",
   "metadata": {},
   "outputs": [],
   "source": [
    "def Iacoby (A, f, x_0, eps):\n",
    "    x = np.copy(x_0)\n",
    "    n = np.shape(A)[0]\n",
    "    \n",
    "    new_A = np.copy(A)\n",
    "    new_f = np.copy(f)\n",
    "    \n",
    "    print(A)\n",
    "    \n",
    "    for i in range(n):\n",
    "        new_f[i] = new_f[i]/new_A[i][i]\n",
    "        new_A[i] = new_A[i]/new_A[i][i]\n",
    "\n",
    "    print(new_A)\n",
    "    print(np.linalg.det(new_A))\n",
    "    print(new_f)\n",
    "        \n",
    "    new_A -= np.eye(n,n)\n",
    "    \n",
    "    \n",
    "    print(new_A)\n",
    "    #print(A)\n",
    "    \n",
    "    #for i in range(100):\n",
    "    while (np.sqrt(abs(np.sum((A.dot(x) - f)**2))) > eps):\n",
    "            #print(np.sqrt(np.sum((A.dot(x) - f)**2)))\n",
    "            x = new_f - new_A.dot(x)\n",
    "            #print(x)\n",
    "    return x"
   ]
  },
  {
   "cell_type": "code",
   "execution_count": 78,
   "id": "34759569",
   "metadata": {},
   "outputs": [
    {
     "name": "stdout",
     "output_type": "stream",
     "text": [
      "[[-2.33381303 -2.0800435  -3.24892498]\n",
      " [-3.0403423   0.45413197  2.51152111]\n",
      " [ 3.6117075  -4.13209021  1.82272382]]\n",
      "[[ 1.          0.89126398  1.39211022]\n",
      " [-6.6948431   1.          5.53037721]\n",
      " [ 1.98148916 -2.26698645  1.        ]]\n",
      "47.64074503400186\n",
      "[[ 3.49641884]\n",
      " [ 0.6012406 ]\n",
      " [18.77033752]]\n",
      "[[ 0.          0.89126398  1.39211022]\n",
      " [-6.6948431   0.          5.53037721]\n",
      " [ 1.98148916 -2.26698645  0.        ]]\n",
      "[[-5.46470140e+307]\n",
      " [-1.08823688e+307]\n",
      " [ 1.12947028e+308]]\n",
      "[[ 2.33597992]\n",
      " [-4.57759454]\n",
      " [ 3.76427382]]\n"
     ]
    },
    {
     "name": "stderr",
     "output_type": "stream",
     "text": [
      "C:\\Users\\nota0\\AppData\\Local\\Temp\\ipykernel_91600\\716065167.py:25: RuntimeWarning: overflow encountered in square\n",
      "  while (np.sqrt(abs(np.sum((A.dot(x) - f)**2))) > eps):\n"
     ]
    }
   ],
   "source": [
    "x_ans = Iacoby(A, f, c*np.random.rand(n, 1), 0.001)\n",
    "#x_ans = Iacoby(A, f, x, 0.001)\n",
    "#print(np.sqrt(np.sum((A.dot(x) - f)**2)))\n",
    "#print(np.sqrt(np.sum((A.dot(x_ans) - f)**2)))\n",
    "\n",
    "print(x_ans)\n",
    "#print(A.dot(x_ans))\n",
    "print(x)\n",
    "#print(A.dot(x))"
   ]
  },
  {
   "cell_type": "markdown",
   "id": "c46d8f02",
   "metadata": {},
   "source": [
    "Метод зейделя"
   ]
  },
  {
   "cell_type": "code",
   "execution_count": 79,
   "id": "6770edaf",
   "metadata": {},
   "outputs": [],
   "source": [
    "def Seidel (A, f, x_0, eps):\n",
    "    x_last = np.copy(x_0)\n",
    "    x_last[0] = x_last[0] + 2*eps\n",
    "    x = np.copy(x_0);\n",
    "    \n",
    "    n = np.shape(A)[0]\n",
    "    \n",
    "    new_A = np.copy(A)\n",
    "    new_f = np.copy(f)\n",
    "    \n",
    "    for i in range(n): \n",
    "        if new_A[i][i] == 0:\n",
    "            for j in range(n):\n",
    "                if A[j][i] != 0:\n",
    "                    new_A[i] += A[j]\n",
    "                    new_f[i] += f[j]\n",
    "                    break\n",
    "    \n",
    "    for i in range(n):\n",
    "        new_f[i] /= new_A[i][i]\n",
    "        new_A[i] /= new_A[i][i]\n",
    "\n",
    "    new_A -= np.eye(n,n)\n",
    "        \n",
    "    \n",
    "    while (np.sqrt(abs(np.sum((x_last - x)**2))) > eps):\n",
    "        x_last = np.copy(x)\n",
    "        for i in range(n):\n",
    "            x[i] = (new_f[i] - new_A[i].dot(x))\n",
    "        \n",
    "    return x\n",
    "        "
   ]
  },
  {
   "cell_type": "code",
   "execution_count": 80,
   "id": "1b6a4940",
   "metadata": {},
   "outputs": [
    {
     "name": "stdout",
     "output_type": "stream",
     "text": [
      "0.0\n",
      "nan\n",
      "[[1.01292026e+308]\n",
      " [            inf]\n",
      " [            nan]]\n",
      "[[ 2.33597992]\n",
      " [-4.57759454]\n",
      " [ 3.76427382]]\n"
     ]
    },
    {
     "name": "stderr",
     "output_type": "stream",
     "text": [
      "C:\\Users\\nota0\\AppData\\Local\\Temp\\ipykernel_91600\\4062790264.py:26: RuntimeWarning: overflow encountered in square\n",
      "  while (np.sqrt(abs(np.sum((x_last - x)**2))) > eps):\n"
     ]
    }
   ],
   "source": [
    "x_ans = Seidel(A, f, c*np.random.rand(n, 1), 0.001)\n",
    "#x_ans = Iacoby(A, f, x, 0.001)\n",
    "print(np.sqrt(np.sum((A.dot(x) - f)**2)))\n",
    "print(np.sqrt(np.sum((A.dot(x_ans) - f)**2)))\n",
    "\n",
    "print(x_ans)\n",
    "#print(A.dot(x_ans))\n",
    "print(x)\n",
    "#print(A.dot(x))"
   ]
  },
  {
   "cell_type": "markdown",
   "id": "04c4e07d",
   "metadata": {},
   "source": [
    "# Метод Ньютона"
   ]
  },
  {
   "cell_type": "markdown",
   "id": "81d5cfea",
   "metadata": {},
   "source": [
    "## Зададим функцию"
   ]
  },
  {
   "cell_type": "code",
   "execution_count": 7,
   "id": "e6cc2650",
   "metadata": {},
   "outputs": [
    {
     "name": "stdout",
     "output_type": "stream",
     "text": [
      "0.0\n"
     ]
    },
    {
     "data": {
      "text/plain": [
       "array([[0.],\n",
       "       [3.],\n",
       "       [0.]])"
      ]
     },
     "execution_count": 7,
     "metadata": {},
     "output_type": "execute_result"
    }
   ],
   "source": [
    "def F(x):\n",
    "    ans = np.array([[0.0], [0.0], [0.0]])\n",
    "    \n",
    "    ans[0][0] = np.sin(x[1][0] - 1)\n",
    "    \n",
    "    ans[1][0] = x[2][0]**2 - 1\n",
    "    \n",
    "    ans[2][0] = x[0][0] - 1\n",
    "    \n",
    "    return ans\n",
    "\n",
    "ans = F(np.array([[1], [1], [2]]))\n",
    "print(np.sin(np.sqrt(ans[0][0])))\n",
    "ans\n"
   ]
  },
  {
   "cell_type": "markdown",
   "id": "900298e5",
   "metadata": {},
   "source": [
    "## Зададим матрицу частных производных"
   ]
  },
  {
   "cell_type": "code",
   "execution_count": 8,
   "id": "fe11c8b4",
   "metadata": {},
   "outputs": [
    {
     "data": {
      "text/plain": [
       "array([[0., 1., 0.],\n",
       "       [0., 0., 4.],\n",
       "       [1., 0., 0.]])"
      ]
     },
     "execution_count": 8,
     "metadata": {},
     "output_type": "execute_result"
    }
   ],
   "source": [
    "def dF(x):\n",
    "    ans = np.zeros((3, 3))\n",
    "    \n",
    "    x_n = x.T\n",
    " \n",
    "    ans[0][1] = np.cos(x[1][0] - 1)\n",
    "\n",
    "    ans[1][2] = 2*x[2][0]    \n",
    "    \n",
    "    ans[2][0] = 1 \n",
    "    \n",
    "    return ans\n",
    "\n",
    "ans = dF(np.array([[1], [1], [2]]))\n",
    "ans"
   ]
  },
  {
   "cell_type": "markdown",
   "id": "e081818e",
   "metadata": {},
   "source": [
    "## Теперь метод Ньютона"
   ]
  },
  {
   "cell_type": "code",
   "execution_count": 9,
   "id": "cfb7fe38",
   "metadata": {},
   "outputs": [],
   "source": [
    "def Newton (F, dF, x_0, eps):\n",
    "    x = np.copy(x_0)\n",
    "    dx = np.ones((3,1))\n",
    "    \n",
    "    while np.sqrt(np.sum(dx**2)) > eps: \n",
    "        dx = np.linalg.inv(dF(x)).dot(-F(x))\n",
    "        #print(dx)\n",
    "    \n",
    "        x += dx\n",
    "        \n",
    "    return x"
   ]
  },
  {
   "cell_type": "code",
   "execution_count": 10,
   "id": "7d29c44d",
   "metadata": {},
   "outputs": [
    {
     "name": "stdout",
     "output_type": "stream",
     "text": [
      "[[ 1.        ]\n",
      " [10.42477796]\n",
      " [ 1.        ]]\n"
     ]
    }
   ],
   "source": [
    "ans = Newton(F, dF, c*np.random.rand(3, 1), 0.0001)\n",
    "print(ans)"
   ]
  },
  {
   "cell_type": "code",
   "execution_count": null,
   "id": "ac19e8ad",
   "metadata": {},
   "outputs": [],
   "source": []
  }
 ],
 "metadata": {
  "kernelspec": {
   "display_name": "Python 3 (ipykernel)",
   "language": "python",
   "name": "python3"
  },
  "language_info": {
   "codemirror_mode": {
    "name": "ipython",
    "version": 3
   },
   "file_extension": ".py",
   "mimetype": "text/x-python",
   "name": "python",
   "nbconvert_exporter": "python",
   "pygments_lexer": "ipython3",
   "version": "3.11.4"
  }
 },
 "nbformat": 4,
 "nbformat_minor": 5
}
