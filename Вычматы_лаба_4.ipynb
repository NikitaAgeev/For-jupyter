{
 "cells": [
  {
   "cell_type": "code",
   "execution_count": 3,
   "id": "0f982dcb",
   "metadata": {},
   "outputs": [],
   "source": [
    "import numpy as np\n",
    "import math\n",
    "import matplotlib.pyplot as plt\n",
    "import random"
   ]
  },
  {
   "cell_type": "markdown",
   "id": "49fbcd5e",
   "metadata": {},
   "source": [
    "Генератор $A$ и $x$ и $f$"
   ]
  },
  {
   "cell_type": "code",
   "execution_count": 6,
   "id": "3a8166c0",
   "metadata": {},
   "outputs": [
    {
     "name": "stdout",
     "output_type": "stream",
     "text": [
      "0.0\n",
      "[[2.25652418 3.25340607]\n",
      " [3.53375741 9.86666261]]\n",
      "[[6.26103083]\n",
      " [8.66079763]]\n",
      "[[ 42.30525898]\n",
      " [107.57813215]]\n"
     ]
    }
   ],
   "source": [
    "n = 2\n",
    "c = 10\n",
    "A = c*np.random.rand(n, n)\n",
    "\n",
    "x = c*np.random.rand(n, 1)\n",
    "\n",
    "f = A.dot(x)\n",
    "\n",
    "print(np.sqrt(np.sum((A.dot(x) - f)**2)))\n",
    "\n",
    "print(A)\n",
    "print(x)\n",
    "\n",
    "print(f)"
   ]
  },
  {
   "cell_type": "markdown",
   "id": "66521c9a",
   "metadata": {},
   "source": [
    "Метод Якоби"
   ]
  },
  {
   "cell_type": "code",
   "execution_count": 7,
   "id": "87b8bd35",
   "metadata": {},
   "outputs": [],
   "source": [
    "def Iacoby (A, f, x_0, eps):\n",
    "    x = x_0\n",
    "    n = np.shape(A)[0]\n",
    "    \n",
    "    new_A = np.copy(A)\n",
    "    new_f = np.copy(f)\n",
    "    for i in range(n):\n",
    "        new_f[i] = (f[i])/(A[i][i])\n",
    "        new_A[i] = (A[i])/(A[i][i])\n",
    "\n",
    "    new_A -= np.eye(n,n)\n",
    "    \n",
    "    #for i in range(100):\n",
    "    while (np.sqrt(abs(np.sum((A.dot(x) - f)*(A.dot(x) - f)))) > eps):\n",
    "            #print(np.sqrt(np.sum((A.dot(x) - f)**2)))\n",
    "            x = new_f - new_A.dot(x)\n",
    "    return x"
   ]
  },
  {
   "cell_type": "code",
   "execution_count": 8,
   "id": "34759569",
   "metadata": {},
   "outputs": [
    {
     "name": "stdout",
     "output_type": "stream",
     "text": [
      "0.0\n",
      "0.0007594526864090197\n",
      "[[6.26038382]\n",
      " [8.66101632]]\n",
      "[[6.26103083]\n",
      " [8.66079763]]\n"
     ]
    }
   ],
   "source": [
    "x_ans = Iacoby(A, f, c*np.random.rand(n, 1), 0.001)\n",
    "#x_ans = Iacoby(A, f, x, 0.001)\n",
    "print(np.sqrt(np.sum((A.dot(x) - f)**2)))\n",
    "print(np.sqrt(np.sum((A.dot(x_ans) - f)**2)))\n",
    "\n",
    "print(x_ans)\n",
    "#print(A.dot(x_ans))\n",
    "print(x)\n",
    "#print(A.dot(x))"
   ]
  },
  {
   "cell_type": "markdown",
   "id": "c46d8f02",
   "metadata": {},
   "source": [
    "Метод зейделя"
   ]
  },
  {
   "cell_type": "code",
   "execution_count": 49,
   "id": "6770edaf",
   "metadata": {},
   "outputs": [],
   "source": [
    "def Seidel (A, f, x_0, eps):\n",
    "    x_last = np.copy(x_0)\n",
    "    x_last[0] = x_last[0] + 2*eps\n",
    "    x = np.copy(x_0);\n",
    "    \n",
    "    n = np.shape(A)[0]\n",
    "    \n",
    "    new_A = np.copy(A)\n",
    "    new_f = np.copy(f)\n",
    "    for i in range(n):\n",
    "        new_f[i] = (f[i])/(A[i][i])\n",
    "        new_A[i] = (A[i])/(A[i][i])\n",
    "\n",
    "    new_A -= np.eye(n,n)\n",
    "        \n",
    "    \n",
    "    while (np.sqrt(abs(np.sum((x_last - x)**2))) > eps):\n",
    "        x_last = np.copy(x)\n",
    "        for i in range(n):\n",
    "            x[i] = (new_f[i] - new_A[i].dot(x))\n",
    "        \n",
    "    return x\n",
    "        "
   ]
  },
  {
   "cell_type": "code",
   "execution_count": 50,
   "id": "1b6a4940",
   "metadata": {},
   "outputs": [
    {
     "name": "stdout",
     "output_type": "stream",
     "text": [
      "0.0\n",
      "0.0005970472318921338\n",
      "[[6.26157792]\n",
      " [8.66060168]]\n",
      "[[6.26103083]\n",
      " [8.66079763]]\n"
     ]
    }
   ],
   "source": [
    "x_ans = Seidel(A, f, c*np.random.rand(n, 1), 0.001)\n",
    "#x_ans = Iacoby(A, f, x, 0.001)\n",
    "print(np.sqrt(np.sum((A.dot(x) - f)**2)))\n",
    "print(np.sqrt(np.sum((A.dot(x_ans) - f)**2)))\n",
    "\n",
    "print(x_ans)\n",
    "#print(A.dot(x_ans))\n",
    "print(x)\n",
    "#print(A.dot(x))"
   ]
  },
  {
   "cell_type": "code",
   "execution_count": null,
   "id": "de26dd34",
   "metadata": {},
   "outputs": [],
   "source": []
  }
 ],
 "metadata": {
  "kernelspec": {
   "display_name": "Python 3 (ipykernel)",
   "language": "python",
   "name": "python3"
  },
  "language_info": {
   "codemirror_mode": {
    "name": "ipython",
    "version": 3
   },
   "file_extension": ".py",
   "mimetype": "text/x-python",
   "name": "python",
   "nbconvert_exporter": "python",
   "pygments_lexer": "ipython3",
   "version": "3.11.4"
  }
 },
 "nbformat": 4,
 "nbformat_minor": 5
}
