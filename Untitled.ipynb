{
 "cells": [
  {
   "cell_type": "code",
   "execution_count": 39,
   "id": "041d82ac",
   "metadata": {},
   "outputs": [],
   "source": [
    "import numpy as np\n",
    "import math\n",
    "import matplotlib\n",
    "\n",
    "\n",
    "def argmax (x):\n",
    "    res = 0\n",
    "    for i in x:\n",
    "        if abs(i) > res:\n",
    "            res = abs(i)\n",
    "    return res"
   ]
  },
  {
   "cell_type": "markdown",
   "id": "9da3778b",
   "metadata": {},
   "source": [
    "Добавим исходную функцию и её производную\n",
    "\n",
    "$f(x) = 3x^3 - x^2 + x$\n",
    "\n",
    "$f'(x) = 9x^2 - 2x + 1$\n",
    "\n",
    "$f''(x) = 18x - 2$\n"
   ]
  },
  {
   "cell_type": "code",
   "execution_count": 9,
   "id": "38433d44",
   "metadata": {},
   "outputs": [],
   "source": [
    "def f(x):\n",
    "    return 3*x**3 - x**2 + x\n",
    "\n",
    "def df(x):\n",
    "    return 9*x**2 - 2*x + 1\n",
    "\n",
    "def ddf(x):\n",
    "    return 18*x - 2"
   ]
  },
  {
   "cell_type": "markdown",
   "id": "a3a4c5b4",
   "metadata": {},
   "source": [
    "Сделаем проектор"
   ]
  },
  {
   "cell_type": "code",
   "execution_count": 25,
   "id": "87da17c2",
   "metadata": {},
   "outputs": [],
   "source": [
    "def projector (f, h, x_min, x_max):\n",
    "    x = x_min\n",
    "    res = np.zeros((0,1))\n",
    "    while x < x_max:\n",
    "        res = np.append(res, f(x))\n",
    "        x += h\n",
    "    return res"
   ]
  },
  {
   "cell_type": "markdown",
   "id": "96e17db7",
   "metadata": {},
   "source": [
    "Построим $f'$ первого порядка, для этого воспользуемся формулой $f'_n = \\frac{f_{n+1} - f_{n}}{h}$, в правом конце используем $f'_n = \\frac{f_{n} - f_{n-1}}{h}$"
   ]
  },
  {
   "cell_type": "code",
   "execution_count": 24,
   "id": "6d4a037d",
   "metadata": {},
   "outputs": [],
   "source": [
    "def diff_O1 (f, h):\n",
    "    len = f.shape[0]\n",
    "    res = np.zeros((0,1))\n",
    "    for i in range(len - 1):\n",
    "        res = np.append(res, (f[i + 1] - f[i])/(h))\n",
    "    res = np.append(res, (f[-1] - f[-2])/(h))\n",
    "    \n",
    "    return res\n",
    "        "
   ]
  },
  {
   "cell_type": "markdown",
   "id": "b67e3e5e",
   "metadata": {},
   "source": [
    "Построим $f'$ второго порядка, для этого воспользуемся формулой $f'_n = \\frac{f_{n+1} - f_{n-1}}{2h}$, в правом конце используем $f'_n = \\frac{3/2f_n - 2f_{n-1} + 1/2f_{n-2}}{h}$, в левом конце используем $f'_0 = \\frac{-3/2f_0 + 2f_1 + -1/2f_2}{h} $"
   ]
  },
  {
   "cell_type": "code",
   "execution_count": 23,
   "id": "25e32138",
   "metadata": {},
   "outputs": [],
   "source": [
    "def diff_O2 (f, h):\n",
    "    len = f.shape[0]\n",
    "    res = np.zeros((0,1))\n",
    "    res = np.append(res, ((-3/2)*f[0] + 2*f[1] + (-1/2)*f[2])/(h))\n",
    "    for i in range(1, len - 1):\n",
    "        res = np.append(res, (f[i + 1] - f[i-1])/(2*h))\n",
    "    res = np.append(res, ((3/2)*f[len-1] - 2*f[len-2] + (1/2)*f[len-3])/(h))\n",
    "    \n",
    "    return res"
   ]
  },
  {
   "cell_type": "markdown",
   "id": "3467919e",
   "metadata": {},
   "source": [
    "Построим $f''$ второго порядка, для этого воспользуемся формулой $f''_n = \\frac{f_{n-1} - 2f_{n} + f{n+1}}{h^2}$, в правом конце используем $f''_n = \\frac{2f_n - 5f_{n-1} + 4f_{n-2} - f_{n-3}}{h^2}$, в левом конце используем $f''_0 = \\frac{2f_0 - 5f_{1} + 4f_{2} - f_{3}}{h^2}$."
   ]
  },
  {
   "cell_type": "code",
   "execution_count": 30,
   "id": "9c393ee2",
   "metadata": {},
   "outputs": [],
   "source": [
    "def diff2_O2 (f, h):\n",
    "    len = f.shape[0]\n",
    "    res = np.zeros((0,1))\n",
    "    res = np.append(res, (2*f[0] - 5*f[1] + 4*f[2] - f[3])/(h**2))\n",
    "    for i in range(1, len - 1):\n",
    "        res = np.append(res, (f[i + 1] - 2*f[i] + f[i-1])/(h**2))\n",
    "    res = np.append(res, (2*f[-1] - 5*f[-2] + 4*f[-3] - f[-4])/(h**2))\n",
    "    \n",
    "    return res"
   ]
  },
  {
   "cell_type": "code",
   "execution_count": 37,
   "id": "be118718",
   "metadata": {},
   "outputs": [],
   "source": [
    "\n",
    "res_1_1 = np.zeros((0,1))\n",
    "res_1_2 = np.zeros((0,1))\n",
    "res_1_22 = np.zeros((0,1))\n",
    "\n",
    "h = 0.0001\n",
    "\n",
    "while h < 0.1:\n",
    "    f_1 = projector(f, h, 0, 1)\n",
    "    diff_f_1 = projector(df, h, 0, 1)\n",
    "    diff2_f_1 = projector(ddf, h, 0, 1)\n",
    "    my_diff_O1_f_1 = diff_O1(f_1, h)\n",
    "    my_diff_O2_f_1 = diff_O2(f_1, h)\n",
    "    my_diff2_O2_f_1 = diff2_O2(f_1, h)\n",
    "\n",
    "    res_1_1 = np.append(res_1_1, argmax(diff_f_1 - my_diff_O1_f_1))\n",
    "    res_1_2 = np.append(res_1_2, argmax(diff_f_1 - my_diff_O2_f_1))\n",
    "    res_1_22 = np.append(res_1_22, argmax(diff2_f_1 - my_diff2_O2_f_1))\n",
    "\n",
    "    h += 0.0001\n"
   ]
  },
  {
   "cell_type": "code",
   "execution_count": null,
   "id": "1de90a49",
   "metadata": {},
   "outputs": [],
   "source": []
  }
 ],
 "metadata": {
  "kernelspec": {
   "display_name": "Python 3 (ipykernel)",
   "language": "python",
   "name": "python3"
  },
  "language_info": {
   "codemirror_mode": {
    "name": "ipython",
    "version": 3
   },
   "file_extension": ".py",
   "mimetype": "text/x-python",
   "name": "python",
   "nbconvert_exporter": "python",
   "pygments_lexer": "ipython3",
   "version": "3.11.4"
  }
 },
 "nbformat": 4,
 "nbformat_minor": 5
}
