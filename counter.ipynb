{
 "cells": [
  {
   "cell_type": "code",
   "execution_count": 8,
   "id": "769b1a28",
   "metadata": {},
   "outputs": [
    {
     "name": "stdout",
     "output_type": "stream",
     "text": [
      "0  |  (-2.275957200481571e-15+0j)\n",
      "1  |  (8.326672684688674e-16-1.8596235662471372e-15j)\n",
      "2  |  (1.9984014443252818e-15+1.887379141862766e-15j)\n",
      "3  |  (-3.6637359812630166e-15+1.1657341758564144e-15j)\n",
      "4  |  (-7.450854765938839e-16-2.55351295663786e-15j)\n",
      "5  |  (8.000000000000002-2.7200464103316335e-15j)\n",
      "6  |  (2.6645352591003757e-15-4.996003610813204e-16j)\n",
      "7  |  (9.43689570931383e-16-2.0261570199409107e-15j)\n",
      "8  |  (-1.942890293094024e-15+6.944406130929226e-15j)\n",
      "9  |  (5.2735593669694936e-15+1.1379786002407855e-15j)\n",
      "10  |  (4.551914400963142e-15+3.7192471324942744e-15j)\n",
      "11  |  (8+4.168887457467463e-14j)\n",
      "12  |  (-5.814777579454795e-15-4.6074255521944e-15j)\n",
      "13  |  (4.052314039881821e-15-2.886579864025407e-15j)\n",
      "14  |  (-3.2751579226442118e-15-1.7208456881689926e-15j)\n",
      "15  |  (-1.2656542480726785e-14-3.885780586188048e-15j)\n"
     ]
    }
   ],
   "source": [
    "import numpy as np\n",
    "import scipy\n",
    "\n",
    "N =16\n",
    "n = 0\n",
    "\n",
    "def F(n):\n",
    "    res = 0\n",
    "    for i in range(N):\n",
    "        res += np.cos(2*np.pi*5*i/16)*np.exp(-1j*2*np.pi/N*n*i)\n",
    "    return res;\n",
    "\n",
    "for i in range(N):\n",
    "    print(i, \" | \", F(i))"
   ]
  },
  {
   "cell_type": "code",
   "execution_count": 15,
   "id": "ad4b887f",
   "metadata": {},
   "outputs": [
    {
     "name": "stdout",
     "output_type": "stream",
     "text": [
      "[[ 2.50000000e-01+6.93889390e-17j  2.50000000e-01-2.77555756e-17j\n",
      "   2.50000000e-01-3.69778549e-32j  2.50000000e-01-5.55111512e-17j]\n",
      " [ 2.50000000e-01+0.00000000e+00j  0.00000000e+00+2.50000000e-01j\n",
      "  -2.50000000e-01+0.00000000e+00j -9.71445147e-17-2.50000000e-01j]\n",
      " [ 2.50000000e-01-5.55111512e-17j -2.50000000e-01+2.77555756e-17j\n",
      "   2.50000000e-01-6.93889390e-17j -2.50000000e-01+1.11022302e-16j]\n",
      " [ 2.50000000e-01-1.38777878e-17j -6.93889390e-17-2.50000000e-01j\n",
      "  -2.50000000e-01+6.93889390e-17j  1.38777878e-16+2.50000000e-01j]]\n"
     ]
    }
   ],
   "source": [
    "print(np.linalg.inv(scipy.linalg.dft(4)))"
   ]
  },
  {
   "cell_type": "code",
   "execution_count": null,
   "id": "3f9a9908",
   "metadata": {},
   "outputs": [],
   "source": []
  },
  {
   "cell_type": "code",
   "execution_count": null,
   "id": "f8da071c",
   "metadata": {},
   "outputs": [],
   "source": []
  }
 ],
 "metadata": {
  "kernelspec": {
   "display_name": "Python 3 (ipykernel)",
   "language": "python",
   "name": "python3"
  },
  "language_info": {
   "codemirror_mode": {
    "name": "ipython",
    "version": 3
   },
   "file_extension": ".py",
   "mimetype": "text/x-python",
   "name": "python",
   "nbconvert_exporter": "python",
   "pygments_lexer": "ipython3",
   "version": "3.11.4"
  }
 },
 "nbformat": 4,
 "nbformat_minor": 5
}
