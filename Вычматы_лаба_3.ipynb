{
 "cells": [
  {
   "cell_type": "code",
   "execution_count": 1,
   "id": "a78a1814",
   "metadata": {},
   "outputs": [],
   "source": [
    "import numpy as np\n",
    "import math\n",
    "import matplotlib.pyplot as plt"
   ]
  },
  {
   "cell_type": "markdown",
   "id": "597161a1",
   "metadata": {},
   "source": [
    "Создадим $f(p) = x^p$ и $f'(p) = px^(p-1)$\n"
   ]
  },
  {
   "cell_type": "code",
   "execution_count": 5,
   "id": "d7d36032",
   "metadata": {},
   "outputs": [],
   "source": [
    "def get_f_and_df(p):\n",
    "    def f(x):\n",
    "        return x**p\n",
    "    def df(x):\n",
    "        return p*x**(p-1)\n",
    "    return (f, df)"
   ]
  },
  {
   "cell_type": "markdown",
   "id": "b8776772",
   "metadata": {},
   "source": [
    "Сделаем метод секущих"
   ]
  },
  {
   "cell_type": "code",
   "execution_count": 6,
   "id": "0ce06930",
   "metadata": {},
   "outputs": [],
   "source": [
    "def secant (f, start, a, epsilon):\n",
    "    x_data = start\n",
    "    while (x_data[1] - x_data[0]) > epsilon:\n",
    "        y_data = (f[0](x_data[0]), f[0](x_data[1]))\n",
    "        k = (y_data[1] - y_data[0])/(x_data[1] - x_data[0])\n",
    "        x_data[0] = x_data[1]\n",
    "        x_data[1] = ((a - y_data[0])/k) + x_data[0]\n",
    "    return x_data[0]        "
   ]
  },
  {
   "cell_type": "code",
   "execution_count": 7,
   "id": "ba87377a",
   "metadata": {},
   "outputs": [
    {
     "ename": "TypeError",
     "evalue": "'tuple' object does not support item assignment",
     "output_type": "error",
     "traceback": [
      "\u001b[1;31m---------------------------------------------------------------------------\u001b[0m",
      "\u001b[1;31mTypeError\u001b[0m                                 Traceback (most recent call last)",
      "Cell \u001b[1;32mIn[7], line 1\u001b[0m\n\u001b[1;32m----> 1\u001b[0m x \u001b[38;5;241m=\u001b[39m secant(get_f_and_df(\u001b[38;5;241m3\u001b[39m), (\u001b[38;5;241m2\u001b[39m,\u001b[38;5;241m3\u001b[39m), \u001b[38;5;241m1\u001b[39m, \u001b[38;5;241m0.0001\u001b[39m)\n\u001b[0;32m      2\u001b[0m \u001b[38;5;28mprint\u001b[39m(x)\n",
      "Cell \u001b[1;32mIn[6], line 6\u001b[0m, in \u001b[0;36msecant\u001b[1;34m(f, start, a, epsilon)\u001b[0m\n\u001b[0;32m      4\u001b[0m     y_data \u001b[38;5;241m=\u001b[39m (f[\u001b[38;5;241m0\u001b[39m](x_data[\u001b[38;5;241m0\u001b[39m]), f[\u001b[38;5;241m0\u001b[39m](x_data[\u001b[38;5;241m1\u001b[39m]))\n\u001b[0;32m      5\u001b[0m     k \u001b[38;5;241m=\u001b[39m (y_data[\u001b[38;5;241m1\u001b[39m] \u001b[38;5;241m-\u001b[39m y_data[\u001b[38;5;241m0\u001b[39m])\u001b[38;5;241m/\u001b[39m(x_data[\u001b[38;5;241m1\u001b[39m] \u001b[38;5;241m-\u001b[39m x_data[\u001b[38;5;241m0\u001b[39m])\n\u001b[1;32m----> 6\u001b[0m     x_data[\u001b[38;5;241m0\u001b[39m] \u001b[38;5;241m=\u001b[39m x_data[\u001b[38;5;241m1\u001b[39m]\n\u001b[0;32m      7\u001b[0m     x_data[\u001b[38;5;241m1\u001b[39m] \u001b[38;5;241m=\u001b[39m ((a \u001b[38;5;241m-\u001b[39m y_data[\u001b[38;5;241m0\u001b[39m])\u001b[38;5;241m/\u001b[39mk) \u001b[38;5;241m+\u001b[39m x_data[\u001b[38;5;241m0\u001b[39m]\n\u001b[0;32m      8\u001b[0m \u001b[38;5;28;01mreturn\u001b[39;00m x_data[\u001b[38;5;241m0\u001b[39m]\n",
      "\u001b[1;31mTypeError\u001b[0m: 'tuple' object does not support item assignment"
     ]
    }
   ],
   "source": [
    "x = secant(get_f_and_df(3), (2,3), 1, 0.0001)\n",
    "print(x)"
   ]
  },
  {
   "cell_type": "code",
   "execution_count": null,
   "id": "06a2e4bf",
   "metadata": {},
   "outputs": [],
   "source": []
  }
 ],
 "metadata": {
  "kernelspec": {
   "display_name": "Python 3 (ipykernel)",
   "language": "python",
   "name": "python3"
  },
  "language_info": {
   "codemirror_mode": {
    "name": "ipython",
    "version": 3
   },
   "file_extension": ".py",
   "mimetype": "text/x-python",
   "name": "python",
   "nbconvert_exporter": "python",
   "pygments_lexer": "ipython3",
   "version": "3.11.4"
  }
 },
 "nbformat": 4,
 "nbformat_minor": 5
}
