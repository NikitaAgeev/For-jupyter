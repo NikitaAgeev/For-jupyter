{
 "cells": [
  {
   "cell_type": "code",
   "execution_count": 1,
   "id": "a78a1814",
   "metadata": {},
   "outputs": [],
   "source": [
    "import numpy as np\n",
    "import math\n",
    "import matplotlib.pyplot as plt"
   ]
  },
  {
   "cell_type": "markdown",
   "id": "597161a1",
   "metadata": {},
   "source": [
    "Создадим $f(p) = x^p - 1$ и $f'(p) = px^{(p-1)}$\n"
   ]
  },
  {
   "cell_type": "code",
   "execution_count": 9,
   "id": "d7d36032",
   "metadata": {},
   "outputs": [],
   "source": [
    "def get_f_and_df(p):\n",
    "    def f(x):\n",
    "        return x**p\n",
    "    def df(x):\n",
    "        return p*x**(p-1)\n",
    "    return (f, df)"
   ]
  },
  {
   "cell_type": "markdown",
   "id": "b8776772",
   "metadata": {},
   "source": [
    "Сделаем метод хорд"
   ]
  },
  {
   "cell_type": "code",
   "execution_count": 14,
   "id": "0ce06930",
   "metadata": {},
   "outputs": [],
   "source": [
    "def chord (f, start, a, epsilon):\n",
    "    x_data = start\n",
    "    while (abs(x_data[1] - x_data[0])) > epsilon:\n",
    "        y_data = (f[0](x_data[0]), f[0](x_data[1]))\n",
    "        k = (y_data[1] - y_data[0])/(x_data[1] - x_data[0])\n",
    "        \n",
    "        x_data = (x_data[1], ((a - y_data[0])/k) + x_data[0])\n",
    "    return x_data[0]        "
   ]
  },
  {
   "cell_type": "code",
   "execution_count": 21,
   "id": "ba87377a",
   "metadata": {},
   "outputs": [
    {
     "name": "stdout",
     "output_type": "stream",
     "text": [
      "1.2599258824880455 ^3 =  2.000023013878729\n"
     ]
    }
   ],
   "source": [
    "x = chord(get_f_and_df(3), (2,3), 2, 0.0001)\n",
    "print(x, \"^3 = \", x**3)\n",
    "\n"
   ]
  },
  {
   "cell_type": "markdown",
   "id": "1af9948f",
   "metadata": {},
   "source": [
    "Сделаем метод ньютона"
   ]
  },
  {
   "cell_type": "code",
   "execution_count": 23,
   "id": "ad829859",
   "metadata": {},
   "outputs": [],
   "source": [
    "def newton (f, start, a, epsilon):\n",
    "    x_data = start\n",
    "    last_x = start + epsilon*2\n",
    "    while (abs(last_x - x_data) > epsilon):\n",
    "        y_data = f[0](x_data)\n",
    "        k = f[1](x_data)\n",
    "        last_x = x_data\n",
    "        x_data = x_data - ((y_data - a)/k)\n",
    "    return x_data"
   ]
  },
  {
   "cell_type": "code",
   "execution_count": 29,
   "id": "7c22555e",
   "metadata": {},
   "outputs": [
    {
     "name": "stdout",
     "output_type": "stream",
     "text": [
      "1.2599210498988491 ^3 =  2.000000000018934\n"
     ]
    }
   ],
   "source": [
    "x = newton(get_f_and_df(3), 3, 2, 0.0001)\n",
    "print(x, \"^3 = \", x**3)\n"
   ]
  },
  {
   "cell_type": "markdown",
   "id": "28516234",
   "metadata": {},
   "source": [
    "Сделаем метод секущих"
   ]
  },
  {
   "cell_type": "code",
   "execution_count": 27,
   "id": "7d7d0292",
   "metadata": {},
   "outputs": [],
   "source": [
    "def secant (f, start, a ,epsilon):\n",
    "    x_data = start\n",
    "    x_last = start + epsilon*2\n",
    "    while (abs(x_last - x_data) > epsilon):\n",
    "        x_last = x_data\n",
    "        x_data = x_data - (f[0](x_data) - a)/f[1](x_data)\n",
    "    return x_data"
   ]
  },
  {
   "cell_type": "code",
   "execution_count": 28,
   "id": "88da97c5",
   "metadata": {},
   "outputs": [
    {
     "name": "stdout",
     "output_type": "stream",
     "text": [
      "1.2599210498988491 ^3 =  2.000000000018934\n"
     ]
    }
   ],
   "source": [
    "x = secant(get_f_and_df(3), 3, 2, 0.0001)\n",
    "print(x, \"^3 = \", x**3)"
   ]
  },
  {
   "cell_type": "code",
   "execution_count": null,
   "id": "82add5f2",
   "metadata": {},
   "outputs": [],
   "source": []
  }
 ],
 "metadata": {
  "kernelspec": {
   "display_name": "Python 3 (ipykernel)",
   "language": "python",
   "name": "python3"
  },
  "language_info": {
   "codemirror_mode": {
    "name": "ipython",
    "version": 3
   },
   "file_extension": ".py",
   "mimetype": "text/x-python",
   "name": "python",
   "nbconvert_exporter": "python",
   "pygments_lexer": "ipython3",
   "version": "3.11.4"
  }
 },
 "nbformat": 4,
 "nbformat_minor": 5
}
