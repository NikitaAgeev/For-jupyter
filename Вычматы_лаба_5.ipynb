{
 "cells": [
  {
   "cell_type": "markdown",
   "id": "6a2d1536",
   "metadata": {},
   "source": [
    "$f(x) = \\sqrt{\\frac{4(1-x)}{(3x-2)^2}}$\n",
    "\n",
    "$x(t) = \\sqrt{y^2(1-x)} + C$\n",
    "\n",
    "or\n",
    "\n",
    "$x(t) = 1$"
   ]
  },
  {
   "cell_type": "code",
   "execution_count": 1,
   "id": "1058bbf6",
   "metadata": {},
   "outputs": [],
   "source": [
    "import numpy as np\n",
    "import math\n",
    "import matplotlib.pyplot as plt\n",
    "import random\n"
   ]
  },
  {
   "cell_type": "code",
   "execution_count": 3,
   "id": "39f4c134",
   "metadata": {},
   "outputs": [],
   "source": [
    "def f(x):\n",
    "    return(np.sqrt(4*(1-x)/((3*x - 2)**2)))"
   ]
  },
  {
   "cell_type": "code",
   "execution_count": null,
   "id": "8a50becf",
   "metadata": {},
   "outputs": [],
   "source": []
  }
 ],
 "metadata": {
  "kernelspec": {
   "display_name": "Python 3 (ipykernel)",
   "language": "python",
   "name": "python3"
  },
  "language_info": {
   "codemirror_mode": {
    "name": "ipython",
    "version": 3
   },
   "file_extension": ".py",
   "mimetype": "text/x-python",
   "name": "python",
   "nbconvert_exporter": "python",
   "pygments_lexer": "ipython3",
   "version": "3.11.4"
  }
 },
 "nbformat": 4,
 "nbformat_minor": 5
}
