{
 "cells": [
  {
   "cell_type": "code",
   "execution_count": 1,
   "id": "db70efc8",
   "metadata": {},
   "outputs": [],
   "source": [
    "import numpy as np\n",
    "import math\n",
    "import matplotlib.pyplot as plt\n",
    "\n",
    "# Если используете Jupyter, то можно поменять backend matplotlib на notebook\n",
    "%matplotlib notebook\n",
    "# Для использования backend matplotlib widget, раскомментируйте строку ниже.\n",
    "# %matplotlib widget\n",
    "# Для использования backend matplotlib inline, раскомментируйте строку ниже.\n",
    "# %matplotlib inline"
   ]
  },
  {
   "cell_type": "code",
   "execution_count": 25,
   "id": "f61fa620",
   "metadata": {},
   "outputs": [
    {
     "data": {
      "text/plain": [
       "array([[ 1.        ,  0.        ,  0.        ,  0.        ,  0.        ],\n",
       "       [ 0.49411765, -1.97647059, -0.94117647, -0.37647059,  0.09411765],\n",
       "       [ 0.23529412, -0.94117647, -2.35294118, -0.94117647,  0.23529412],\n",
       "       [ 0.09411765, -0.37647059, -0.94117647, -1.97647059,  0.49411765],\n",
       "       [ 0.        ,  0.        ,  0.        ,  0.        ,  1.        ]])"
      ]
     },
     "execution_count": 25,
     "metadata": {},
     "output_type": "execute_result"
    }
   ],
   "source": [
    "T = 1\n",
    "X = 1\n",
    "\n",
    "n_T = 5\n",
    "n_X = 5\n",
    "\n",
    "dt= T/(n_T - 1)\n",
    "dx= X/(n_X - 1)\n",
    "\n",
    "E = np.eye(n_X)\n",
    "D_L = np.array([[0. for i in range(n_X)]] +[([0. for j in range(0, i-1)] + [1.] + [0. for j in range(i, n_X)]) for i in range(1, n_X-1)] + [[0. for i in range(n_X)]])\n",
    "\n",
    "D_R = np.array([[0. for i in range(n_X)]] +[([0. for j in range(0, i+1)] + [1.] + [0. for j in range(i+2, n_X)]) for i in range(1, n_X-1)] + [[0. for i in range(n_X)]])\n",
    "\n",
    "D = np.array([[0. for i in range(n_X)]] +[([0. for j in range(0, i)] + [1.] + [0. for j in range(i+1, n_X)]) for i in range(1, n_X-1)] + [[0. for i in range(n_X)]])\n",
    "\n",
    "A =dt*(D_L + D_R) - 2*(dt + dx**2)*D\n",
    "\n",
    "A[0][0] = 1\n",
    "A[n_X-1][n_X-1] = 1\n",
    "\n",
    "A\n",
    "\n",
    "ne_A = np.linalg.inv(A)\n",
    "ne_A"
   ]
  },
  {
   "cell_type": "code",
   "execution_count": 27,
   "id": "e8eab16d",
   "metadata": {},
   "outputs": [],
   "source": [
    "def f(x, t):\n",
    "    return 8*x**2/(x**2 + 2*t + 1)**3;\n",
    "\n",
    "def u_l(t):\n",
    "    return 0\n",
    "\n",
    "def u_r(t):\n",
    "    return 0\n",
    "\n",
    "def start(x):\n",
    "    if (abs(x - 0.5) < 0.1):\n",
    "        return 1\n",
    "    else:\n",
    "        return 0"
   ]
  },
  {
   "cell_type": "code",
   "execution_count": 35,
   "id": "5e26dca3",
   "metadata": {},
   "outputs": [],
   "source": [
    "def a_gen(t, y):\n",
    "    res = np.array([])\n",
    "    res = np.append(res, np.array([u_l(t+dt)]))\n",
    "    for i in range(1, n_X -1):\n",
    "        res = np.append(res,  np.array([(2*(dt - dx**2)*y[i] - dt*(y[i+1] + y[i-1]) - 2 * (dx**2) * dt * f(0, t+dt))]))\n",
    "    res = np.append(res, [u_r(t+dt)])"
   ]
  },
  {
   "cell_type": "code",
   "execution_count": null,
   "id": "49cd216c",
   "metadata": {},
   "outputs": [],
   "source": [
    "#ans = [start(dx*i) for i in range ]"
   ]
  }
 ],
 "metadata": {
  "kernelspec": {
   "display_name": "Python 3 (ipykernel)",
   "language": "python",
   "name": "python3"
  },
  "language_info": {
   "codemirror_mode": {
    "name": "ipython",
    "version": 3
   },
   "file_extension": ".py",
   "mimetype": "text/x-python",
   "name": "python",
   "nbconvert_exporter": "python",
   "pygments_lexer": "ipython3",
   "version": "3.11.4"
  }
 },
 "nbformat": 4,
 "nbformat_minor": 5
}
