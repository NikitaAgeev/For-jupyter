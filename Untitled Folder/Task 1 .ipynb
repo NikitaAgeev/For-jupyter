{
 "cells": [
  {
   "cell_type": "code",
   "execution_count": 1,
   "id": "0cfe60f6",
   "metadata": {},
   "outputs": [],
   "source": [
    "import numpy as np\n",
    "import math\n",
    "import matplotlib.pyplot as plt"
   ]
  },
  {
   "cell_type": "markdown",
   "id": "5fa80459",
   "metadata": {},
   "source": [
    "Задача 1. Рассматривается система ОДУ первого порядка, имеющая периодическое\n",
    "решение с периодом 𝑇:\n",
    "\n",
    "\\begin{cases}\n",
    "\\alpha'(t) = \\theta(t) \\\\\n",
    "\\theta'(t) = -sin\\alpha(t), t \\in [0, T] \\\\\n",
    "\\alpha(0) = \\frac{\\pi}{2}, \\theta(0) = 0\n",
    "\\end{cases}\n",
    "\n",
    "Для удобства манипуляций $x = [\\alpha, \\theta]$"
   ]
  },
  {
   "cell_type": "code",
   "execution_count": 12,
   "id": "92033226",
   "metadata": {},
   "outputs": [],
   "source": [
    "def f(x, t):\n",
    "    return np.array([x[1], -np.sin(x[0])])"
   ]
  },
  {
   "cell_type": "markdown",
   "id": "44579312",
   "metadata": {},
   "source": [
    "# Глава 1: метод и реализация"
   ]
  },
  {
   "cell_type": "markdown",
   "id": "0c9a7c41",
   "metadata": {},
   "source": [
    "Метод для реализации a) $$ f_i = \\frac{y_{i+1} - y_{i-1}}{2 \\Delta t} $$\n",
    "\n",
    "Не сложно получить шаг $$ y_{i+1} = y_{i-1} + 2 \\Delta t f_i $$\n",
    "\n",
    "Правда надо задать 2 \"нулевых\" сначения"
   ]
  },
  {
   "cell_type": "code",
   "execution_count": 22,
   "id": "754b2d79",
   "metadata": {},
   "outputs": [],
   "source": [
    "def method (y_0, y_1, f,  d_t, steps):\n",
    "    \n",
    "    x_im1 = y_1;\n",
    "    step = 2*d_t*f(x_im1, 0) \n",
    "    \n",
    "    res = np.array([y_0])\n",
    "    res = np.append(res, [y_1], axis = 0)\n",
    "    \n",
    "    i = 1\n",
    "    for i in range(1, steps):\n",
    "        res = np.append(res, [(res[i - 1] + step)], axis = 0)\n",
    "        i += 1\n",
    "        step = 2*d_t*f(res[i], i*d_t)\n",
    "    return res\n",
    "    "
   ]
  },
  {
   "cell_type": "code",
   "execution_count": 23,
   "id": "6d91b724",
   "metadata": {},
   "outputs": [
    {
     "data": {
      "text/plain": [
       "array([[ 1.57079633,  0.        ],\n",
       "       [ 1.57079633,  0.        ],\n",
       "       [ 1.57079633, -0.002     ],\n",
       "       ...,\n",
       "       [ 1.07783469, -0.97375017],\n",
       "       [ 1.07588719, -0.97375017],\n",
       "       [ 1.07588719, -0.9755102 ]])"
      ]
     },
     "execution_count": 23,
     "metadata": {},
     "output_type": "execute_result"
    }
   ],
   "source": [
    "method ([np.pi/2,0.],[np.pi/2,0], f, 0.001, 1000)"
   ]
  },
  {
   "cell_type": "code",
   "execution_count": null,
   "id": "00153a79",
   "metadata": {},
   "outputs": [],
   "source": []
  }
 ],
 "metadata": {
  "kernelspec": {
   "display_name": "Python 3 (ipykernel)",
   "language": "python",
   "name": "python3"
  },
  "language_info": {
   "codemirror_mode": {
    "name": "ipython",
    "version": 3
   },
   "file_extension": ".py",
   "mimetype": "text/x-python",
   "name": "python",
   "nbconvert_exporter": "python",
   "pygments_lexer": "ipython3",
   "version": "3.11.4"
  }
 },
 "nbformat": 4,
 "nbformat_minor": 5
}
